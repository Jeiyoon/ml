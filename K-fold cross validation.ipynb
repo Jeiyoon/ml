{
  "nbformat": 4,
  "nbformat_minor": 0,
  "metadata": {
    "colab": {
      "name": "Untitled15.ipynb",
      "provenance": [],
      "collapsed_sections": []
    },
    "kernelspec": {
      "name": "python3",
      "display_name": "Python 3"
    }
  },
  "cells": [
    {
      "cell_type": "markdown",
      "metadata": {
        "id": "DLWUEzFWntH2"
      },
      "source": [
        "# Cross-validation\n",
        "\n",
        "Cross-validation is a technique used to create a more accurate estimate of model prediction performance. The idea is to partition the original sample into a training set (used for learning) and a testing set (used for validation). One type of of cress-validation is the k-fold method. You can find more information about it here.\n",
        "\n",
        "In this task you are asked to divide into such folds. There is more than one way to achieve this; however, your partition should dfulfill the following conditions:\n",
        "\n",
        "- Every element from the sample should be used exactly once in testing sets;\n",
        "- Every element from the sample should be used at least once in training sets;\n",
        "- The sizes of the pairs of testing sets may differ by no more than 1.\n",
        "\n",
        "Write a function:\n",
        "\n",
        "    def solution(indices, K)\n",
        "\n",
        "that, given an array of integers indices which contains the indices of elements in a data sample and an integer K which indicates the number of folds to generate, returns an array that contains the arrays of folds (J-th traing indices and J-th testing indices are stored respectively as its 2 * J and 2 * J + 1 elements).\n",
        "\n",
        "For example, given indices = [1, 2, 3] and K = 2, one of the possible accepted results may be [ [1, 2], [3], [3], [1, 2] ]\n",
        "\n",
        "(first fold contains [1, 2] as the training set and [3] as the testing set and second fold contains [3] as the training set and [1, 2] as the testing set.)\n",
        "\n",
        "Assume that:\n",
        "\n",
        "- N is an integer within the range [2, ..., 100];\n",
        "- K is an integer within the range [2, ..., N];\n",
        "- each element of array indices is an integer within the range [0, ..., 100,000];\n",
        "- the elements of indices are all distinct."
      ]
    },
    {
      "cell_type": "code",
      "metadata": {
        "id": "vB9STWpcnmu0",
        "outputId": "39ad78c1-f342-4198-9e50-3b06b4b5a22d",
        "colab": {
          "base_uri": "https://localhost:8080/",
          "height": 107
        }
      },
      "source": [
        "# <조건>\n",
        "# test set에서 딱 한 번\n",
        "# train set에서 최소 한 번\n",
        "# test 셋 길이의 차이는 1 이하\n",
        "\n",
        "# test set 먼저 결정, 나머지 train set으로.\n",
        "def solution(indices, K):\n",
        "  # // : 나누기 연산 후 소수점 이하의 수를 버리고, 정수 부분의 수만 구함\n",
        "  # % : 나누기 연산 후 몫이 아닌 나머지를 구함\n",
        "  test_len = len(indices) // K # 일반적인 test set의 길이 ### CASE 1\n",
        "  n_exception = len(indices) % K # test_len보다 길이가 +1인 test set의 갯수 ### CASE 2\n",
        "  indices_set = set(indices) # train = all - test 연산 빠르게 하기 위해 만들어둚 \n",
        "  print(\"test_len: \",test_len)\n",
        "  print(\"n_exception: \",n_exception)\n",
        "  print(\"indices_set: \",indices_set)\n",
        "\n",
        "  test_start_idx = 0\n",
        "  result = []\n",
        "\n",
        "  while True:\n",
        "    # print(\"#########################\")\n",
        "    if n_exception > 0: ### CASE 2\n",
        "      # print(\"CASE2\")\n",
        "      test = indices[test_start_idx : test_start_idx + test_len + 1]\n",
        "      # print(test)\n",
        "      test_start_idx = test_start_idx + test_len + 1\n",
        "      # print(test_start_idx)\n",
        "      n_exception -= 1\n",
        "      # print(n_exception)\n",
        "    else: ### CASE 1\n",
        "      # print(\"CASE1\")\n",
        "      test = indices[test_start_idx : test_start_idx + test_len]\n",
        "      # print(test)\n",
        "      test_start_idx = test_start_idx + test_len\n",
        "      # print(test_start_idx)\n",
        "\n",
        "    train = list(indices_set - set(test))\n",
        "    result.append(train)\n",
        "    result.append(test)\n",
        "\n",
        "    if test_start_idx >= len(indices):\n",
        "      break\n",
        "  \n",
        "  return result\n",
        "\n",
        "if __name__ == \"__main__\":\n",
        "  # result = solution([1,2,3], 2)\n",
        "  result = solution(list(range(22)), 21)\n",
        "  print(result)"
      ],
      "execution_count": 17,
      "outputs": [
        {
          "output_type": "stream",
          "text": [
            "test_len:  1\n",
            "n_exception:  1\n",
            "indices_set:  {0, 1, 2, 3, 4, 5, 6, 7, 8, 9, 10, 11, 12, 13, 14, 15, 16, 17, 18, 19, 20, 21}\n",
            "[[2, 3, 4, 5, 6, 7, 8, 9, 10, 11, 12, 13, 14, 15, 16, 17, 18, 19, 20, 21], [0, 1], [0, 1, 3, 4, 5, 6, 7, 8, 9, 10, 11, 12, 13, 14, 15, 16, 17, 18, 19, 20, 21], [2], [0, 1, 2, 4, 5, 6, 7, 8, 9, 10, 11, 12, 13, 14, 15, 16, 17, 18, 19, 20, 21], [3], [0, 1, 2, 3, 5, 6, 7, 8, 9, 10, 11, 12, 13, 14, 15, 16, 17, 18, 19, 20, 21], [4], [0, 1, 2, 3, 4, 6, 7, 8, 9, 10, 11, 12, 13, 14, 15, 16, 17, 18, 19, 20, 21], [5], [0, 1, 2, 3, 4, 5, 7, 8, 9, 10, 11, 12, 13, 14, 15, 16, 17, 18, 19, 20, 21], [6], [0, 1, 2, 3, 4, 5, 6, 8, 9, 10, 11, 12, 13, 14, 15, 16, 17, 18, 19, 20, 21], [7], [0, 1, 2, 3, 4, 5, 6, 7, 9, 10, 11, 12, 13, 14, 15, 16, 17, 18, 19, 20, 21], [8], [0, 1, 2, 3, 4, 5, 6, 7, 8, 10, 11, 12, 13, 14, 15, 16, 17, 18, 19, 20, 21], [9], [0, 1, 2, 3, 4, 5, 6, 7, 8, 9, 11, 12, 13, 14, 15, 16, 17, 18, 19, 20, 21], [10], [0, 1, 2, 3, 4, 5, 6, 7, 8, 9, 10, 12, 13, 14, 15, 16, 17, 18, 19, 20, 21], [11], [0, 1, 2, 3, 4, 5, 6, 7, 8, 9, 10, 11, 13, 14, 15, 16, 17, 18, 19, 20, 21], [12], [0, 1, 2, 3, 4, 5, 6, 7, 8, 9, 10, 11, 12, 14, 15, 16, 17, 18, 19, 20, 21], [13], [0, 1, 2, 3, 4, 5, 6, 7, 8, 9, 10, 11, 12, 13, 15, 16, 17, 18, 19, 20, 21], [14], [0, 1, 2, 3, 4, 5, 6, 7, 8, 9, 10, 11, 12, 13, 14, 16, 17, 18, 19, 20, 21], [15], [0, 1, 2, 3, 4, 5, 6, 7, 8, 9, 10, 11, 12, 13, 14, 15, 17, 18, 19, 20, 21], [16], [0, 1, 2, 3, 4, 5, 6, 7, 8, 9, 10, 11, 12, 13, 14, 15, 16, 18, 19, 20, 21], [17], [0, 1, 2, 3, 4, 5, 6, 7, 8, 9, 10, 11, 12, 13, 14, 15, 16, 17, 19, 20, 21], [18], [0, 1, 2, 3, 4, 5, 6, 7, 8, 9, 10, 11, 12, 13, 14, 15, 16, 17, 18, 20, 21], [19], [0, 1, 2, 3, 4, 5, 6, 7, 8, 9, 10, 11, 12, 13, 14, 15, 16, 17, 18, 19, 21], [20], [0, 1, 2, 3, 4, 5, 6, 7, 8, 9, 10, 11, 12, 13, 14, 15, 16, 17, 18, 19, 20], [21]]\n"
          ],
          "name": "stdout"
        }
      ]
    },
    {
      "cell_type": "code",
      "metadata": {
        "id": "PzDAOAheylou",
        "outputId": "bc83e267-f212-44f0-a77a-098e5ba92e41",
        "colab": {
          "base_uri": "https://localhost:8080/",
          "height": 34
        }
      },
      "source": [
        "list(range(22))"
      ],
      "execution_count": 2,
      "outputs": [
        {
          "output_type": "execute_result",
          "data": {
            "text/plain": [
              "[0, 1, 2, 3, 4, 5, 6, 7, 8, 9, 10, 11, 12, 13, 14, 15, 16, 17, 18, 19, 20, 21]"
            ]
          },
          "metadata": {
            "tags": []
          },
          "execution_count": 2
        }
      ]
    }
  ]
}