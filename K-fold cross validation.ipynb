{
  "nbformat": 4,
  "nbformat_minor": 0,
  "metadata": {
    "colab": {
      "name": "Untitled15.ipynb",
      "provenance": []
    },
    "kernelspec": {
      "name": "python3",
      "display_name": "Python 3"
    }
  },
  "cells": [
    {
      "cell_type": "markdown",
      "metadata": {
        "id": "DLWUEzFWntH2"
      },
      "source": [
        "Cross-validation is a technique used to create a more accurate estimate of model prediction performance. The idea is to partition the original sample into a training set (used for learning) and a testing set (used for validation). One type of of cress-validation is the k-fold method. You can find more information about it here.\n",
        "\n",
        "In this task you are asked to divide into such folds. There is more than one way to achieve this; however, your partition should dfulfill the following conditions:\n",
        "\n",
        "- Every element from the sample should be used exactly once in testing sets;\n",
        "- Every element from the sample should be used at least once in training sets;\n",
        "- The sizes of the pairs of testing sets may differ by no more than 1.\n",
        "\n",
        "Write a function:\n",
        "\n",
        "    def solution(indices, K)\n",
        "\n",
        "that, given an array of integers indices which contains the indices of elements in a data sample and an integer K which indicates the number of folds to generate, returns an array that contains the arrays of folds (J-th traing indices and J-th testing indices are stored respectively as its 2 * J and 2 * J + 1 elements).\n",
        "\n",
        "For example, given indices = [1, 2, 3] and K = 2, one of the possible accepted results may be [ [1, 2], [3], [3], [1, 2] ]\n",
        "\n",
        "(first fold contains [1, 2] as the training set and [3] as the testing set and second fold contains [3] as the training set and [1, 2] as the testing set.)\n",
        "\n",
        "Assume that:\n",
        "\n",
        "- N is an integer within the range [2, ..., 100];\n",
        "- K is an integer within the range [2, ..., N];\n",
        "- each element of array indices is an integer within the range [0, ..., 100,000];\n",
        "- the elements of indices are all distinct."
      ]
    },
    {
      "cell_type": "code",
      "metadata": {
        "id": "vB9STWpcnmu0"
      },
      "source": [
        ""
      ],
      "execution_count": null,
      "outputs": []
    }
  ]
}