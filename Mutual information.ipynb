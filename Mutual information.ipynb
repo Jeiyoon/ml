{
  "nbformat": 4,
  "nbformat_minor": 0,
  "metadata": {
    "colab": {
      "name": "Untitled16.ipynb",
      "provenance": [],
      "collapsed_sections": []
    },
    "kernelspec": {
      "name": "python3",
      "display_name": "Python 3"
    }
  },
  "cells": [
    {
      "cell_type": "markdown",
      "metadata": {
        "id": "e11YlZMQlROX"
      },
      "source": [
        "# Mutual Information\n",
        "\n",
        "Mutual information quantifies the relation between two discrete random variables. For a probability distribution $p_{ij}$ (presented as a two-dimensional NumPy array arr), mutual information is defined as:\n",
        "\n",
        "$$\\sum_{ij}p_{ij}log(p_{ij}) - \\sum_{i}p_{i}log(p_{i}) - \\sum_{j}p_{j}log(p_{j})$$\n",
        "\n",
        "where\n",
        "\n",
        "$$p_i = \\sum_{j}p_{ij}$$\n",
        "\n",
        "and\n",
        "\n",
        "$$p_j = \\sum_{i}p_{ij}$$\n",
        "\n",
        "are marginal distributions.\n",
        "\n",
        "Implement this in Python."
      ]
    },
    {
      "cell_type": "code",
      "metadata": {
        "id": "bODoHf4-k87I",
        "outputId": "9dd480d4-704f-46a5-d1d1-831ae1e2a2ef",
        "colab": {
          "base_uri": "https://localhost:8080/"
        }
      },
      "source": [
        "# <조건>\n",
        "# 자연로그 사용 np.log(x)\n",
        "# zeros 고려 = where(arr != 0, np.log(arr), 0)\n",
        "# for-loop 대신 numpy op. 사용 = matrix 연산 능력 보겠다? np 사용 능력 보겠다?\n",
        "import numpy as np\n",
        "\n",
        "def mutual_information(arr):\n",
        "  zero_cater = 0\n",
        "  # np.multiply: element-wise multiplication\n",
        "  # np.where np.where( condition - 조건식 x - condition이 True일 경우 반환값 y - condition이 False일 경우 반환값)\n",
        "  term0 = np.multiply(arr, np.where(arr != 0, np.log(arr), zero_cater)).sum()\n",
        "\n",
        "  pi = arr.sum(axis = 0)\n",
        "  term1 = np.multiply(pi, np.where(pi != 0, np.log(pi), zero_cater)).sum()\n",
        "\n",
        "  pj = arr.sum(axis = 1)\n",
        "  term2 = np.multiply(pj, np.where(pj != 0, np.log(pj), zero_cater)).sum()\n",
        "  return term0 - term1 - term2\n",
        "\n",
        "if __name__ == \"__main__\":\n",
        "  arr = np.array([[1, 2], [3, 0]])\n",
        "  result = mutual_information(arr)\n",
        "  print(result)"
      ],
      "execution_count": 16,
      "outputs": [
        {
          "output_type": "stream",
          "text": [
            "-8.841014310483892\n"
          ],
          "name": "stdout"
        },
        {
          "output_type": "stream",
          "text": [
            "/usr/local/lib/python3.6/dist-packages/ipykernel_launcher.py:11: RuntimeWarning: divide by zero encountered in log\n",
            "  # This is added back by InteractiveShellApp.init_path()\n"
          ],
          "name": "stderr"
        }
      ]
    }
  ]
}