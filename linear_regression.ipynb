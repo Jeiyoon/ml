{
  "nbformat": 4,
  "nbformat_minor": 0,
  "metadata": {
    "colab": {
      "name": "Untitled14.ipynb",
      "provenance": [],
      "collapsed_sections": []
    },
    "kernelspec": {
      "name": "python3",
      "display_name": "Python 3"
    }
  },
  "cells": [
    {
      "cell_type": "markdown",
      "metadata": {
        "id": "WrshVYexCRVI"
      },
      "source": [
        "# Analyze the data and apply a linear regression model\n",
        "\n",
        "You are given a dataset, realest.csv, which contains information about house prices in the suburbs of Chicago. Your task is first to analyze the data, and then to apply a regression model to it.\n",
        "\n",
        "# Data overview\n",
        "\n",
        "You can access the dataset using the path ./data/realest.csv. The dataset consists of following variables:\n",
        "\n",
        "- price: price of the house\n",
        "- Bedroom: the number of bedrooms\n",
        "- Space: size of the house (in square feet)\n",
        "- Room: the number of rooms\n",
        "- Lot: width of a lot\n",
        "- Tax: amount of annual tax\n",
        "- Bathroom: the number of bathrooms\n",
        "- Garage: the number of parking lots in the garage\n",
        "- condition: condition of the house (1 if good, 0 otherwise)\n",
        "\n",
        "The values in some of the columns may be missing, so you must handle this properly.\n",
        "\n",
        "We want to describe the relationship between Price (which will be a dependent variable in the model) and all other variables (predictors) using a linear regression model.\n",
        "\n",
        "When building the linear regression model, you should handle missing data using a listwise deletion method: exclude an entire record from the analysis if any single value is missing (hint: dropna() method from pandas)\n",
        "\n",
        "To fit a model to the data, you can either use built-in functions or calculate the parameters of the model from scratch. If you choose the latter approach, here you will find all the equations you need to implement as least-squares method for calculating model parameters.\n",
        "\n",
        "# Task details\n",
        "\n",
        "Write a class AnalysisDataAndFitLinearRegression with a method named analyse_and_fit_lrm() which takes one argument (a path to a dataset) and returns a dictionary of length 2 with the following objects (the order and names of the objects should be the same as below):\n",
        "\n",
        "- summary_dict - a dictionary of length 3 with the following elements:\n",
        "\n",
        "  (1) statistics - a list of numbers of length 5 with mean, standard deviation, median, minumum and maximum for a variable Tax for all houses with two bathrooms and four bedrooms.\n",
        "\n",
        "  (2) data_frame - a data frame with observations for which Space is bigger than 800, ordered by decreasing Price.\n",
        "\n",
        "  (3) number_of_observations - a numeric value corresponding to the number of observations for which the value of a variable Lot is equal to or bigger than the 80th percentile of this variable.  \n",
        "\n",
        "\n",
        "- regression_dict\n",
        "\n",
        "  (1) model_parameters - a dictionary of length 9 with the model parameters. The first key of the dictionary should be named Intercept, and all other keys should have the same name as the respective variable.\n",
        "\n",
        "  (2) price_prediction - a numeric value which corresponds to the prediction of the price (using the appied model) for a house with the following specific parameters: three bedrooms; 1500 square feet of space; eight rooms; width of lot is 40; $1000 tax; two bathrooms; one space in the garage; house is in bad condition.\n",
        "\n",
        "\n",
        "Apart from base Python, you can use the numpy, pandas and scikit-learn packages. Keep in mind that since python 3.6 dicts keep their insertion order.\n",
        " \n",
        "\n",
        "\n",
        "\n"
      ]
    },
    {
      "cell_type": "code",
      "metadata": {
        "id": "qRA9sDitJAe4",
        "outputId": "ad939588-ce3e-4573-c3b3-b626b495bf8c",
        "colab": {
          "base_uri": "https://localhost:8080/",
          "height": 35
        }
      },
      "source": [
        "import numpy as np\n",
        "import pandas as pd\n",
        "from sklearn.linear_model import LinearRegression\n",
        "\n",
        "class AnalysisDataAndFitLinearRegression:\n",
        "    def __init__(self):\n",
        "        self.version = 1\n",
        "    def analysis_and_fit_lrm(self, path):\n",
        "        data = pd.read_csv(path)\n",
        "        # an entire record deletion if any single value in missing (row)\n",
        "        data = __listwise_deletion(data)\n",
        "        # statistics for 5 data description\n",
        "        statistics = [np.mean(data['TAX']), np.std(data['TAX']),\n",
        "                      np.median(data['TAX']), np.min(data['TAX']),np.max(data['TAX'])]\n",
        "        # data_frame for column \"Space\" which is bigger than 800 and ordered by decreasing 'Price'\n",
        "        data_frame = data[(data['Space'] > 800)].sort_values(by = 'Price', ascending = False)\n",
        "        # nums of observations for column 'Lot' which is equal or bigger than 80th percentile\n",
        "        number_of_observations = len(data[(data['Lot'] >= np.percentile(data['Lot'], 80))])\n",
        "        # define summary_dict\n",
        "        summary_dict = {'statistics': statistics, 'data_frame': data_frame,\n",
        "                        'number_of_observations': number_of_observations}\n",
        "        # Load LinearRegression model from skilearn\n",
        "        lr = LinearRegression()\n",
        "        # Split x_features (independent variables) and y_target (dependent variable)\n",
        "        x_features = data.drop(['Price'], axis = 1, inplace = False)\n",
        "        y_target = data['Price']\n",
        "        # Learning model\n",
        "        lr.fit(x_features, y_target)\n",
        "        # Assign 'column_name' : 'coefficient' in 'model_parameters'\n",
        "        model_parameters = {}\n",
        "        for i, (name, coef) in enumerate(zip(x_features.columns, lr.coef_)):\n",
        "            if i == 0:\n",
        "                model_parameters['Intercept'] = lr.intercept_\n",
        "                model_parameters[name] = coef\n",
        "            else:\n",
        "                model_parameters[name] = coef\n",
        "        # [['Bedroom', 'Space', 'Size', 'Room', 'Lot', 'Tax', 'Bathroom', 'Garage', 'Condition']]\n",
        "        prediction_list = [[3, 1500, 8, 40, 1000, 2, 1, 0]]\n",
        "        # Predict the 'Price'\n",
        "        price_prediction = lr.predict(prediction_list)[0]\n",
        "        # define regression_dict\n",
        "        regression_dict = {'model_parameters': model_parameters, 'price_prediction': price_prediction}\n",
        "        # return a dictionary of length 2\n",
        "        return {summary_dict, regression_dict}\n",
        "    def __listwise_deletion(self, data: pd.DataFrame):\n",
        "        return data.dropna(axis = 0)\n",
        "\n",
        "if __name__ == \"__main__\":\n",
        "  AnalysisDataAndFitLinearRegression('./data/realest.csv')"
      ],
      "execution_count": 3,
      "outputs": [
        {
          "output_type": "stream",
          "text": [
          ],
          "name": "stdout"
        }
      ]
    }
  ]
}
